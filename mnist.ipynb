{
  "cells": [
    {
      "cell_type": "code",
      "execution_count": 198,
      "metadata": {
        "id": "a08vd1IjPwce"
      },
      "outputs": [],
      "source": [
        "from keras.datasets import mnist\n",
        "from keras.layers import Conv2D,MaxPool2D,Input,Dense,Flatten,Dropout\n",
        "from keras.losses import SparseCategoricalCrossentropy\n",
        "from keras import Model\n"
      ]
    },
    {
      "cell_type": "code",
      "source": [
        "(x_train, y_train), (x_test, y_test) = mnist.load_data()"
      ],
      "metadata": {
        "id": "46Us3fytcOlw",
        "colab": {
          "base_uri": "https://localhost:8080/"
        },
        "outputId": "763b92d0-b158-4258-f591-172588d76205"
      },
      "execution_count": 2,
      "outputs": [
        {
          "output_type": "stream",
          "name": "stdout",
          "text": [
            "Downloading data from https://storage.googleapis.com/tensorflow/tf-keras-datasets/mnist.npz\n",
            "11493376/11490434 [==============================] - 0s 0us/step\n",
            "11501568/11490434 [==============================] - 0s 0us/step\n"
          ]
        }
      ]
    },
    {
      "cell_type": "code",
      "source": [
        "x_train.shape"
      ],
      "metadata": {
        "colab": {
          "base_uri": "https://localhost:8080/"
        },
        "id": "Elvq6mNHcOcI",
        "outputId": "9bf7ac62-f937-47bf-d0bb-38c84cade5a4"
      },
      "execution_count": 3,
      "outputs": [
        {
          "output_type": "execute_result",
          "data": {
            "text/plain": [
              "(60000, 28, 28)"
            ]
          },
          "metadata": {},
          "execution_count": 3
        }
      ]
    },
    {
      "cell_type": "code",
      "source": [
        "x=Input(shape=(28,28,1))"
      ],
      "metadata": {
        "id": "9D2qtChWfYfM"
      },
      "execution_count": 128,
      "outputs": []
    },
    {
      "cell_type": "code",
      "source": [
        "y=Conv2D(32,3,activation='relu')(x)\n",
        "y=MaxPool2D()(y)\n",
        "y=Conv2D(64,2,activation='relu')(y)\n",
        "y=MaxPool2D()(y)\n",
        "\n",
        "y=Flatten()(y)\n",
        "\n",
        "y=Dense(32,activation='relu')(y)\n",
        "y=Dense(10,activation='softmax')(y)"
      ],
      "metadata": {
        "id": "wzZlKoM5fd7Z"
      },
      "execution_count": 233,
      "outputs": []
    },
    {
      "cell_type": "code",
      "source": [
        "model= Model(x,y)\n",
        "model.summary()"
      ],
      "metadata": {
        "colab": {
          "base_uri": "https://localhost:8080/"
        },
        "id": "kA1DZi5D_Pae",
        "outputId": "4e77b998-a21e-45f4-e581-853c52e4339b"
      },
      "execution_count": 235,
      "outputs": [
        {
          "output_type": "stream",
          "name": "stdout",
          "text": [
            "Model: \"model_32\"\n",
            "_________________________________________________________________\n",
            " Layer (type)                Output Shape              Param #   \n",
            "=================================================================\n",
            " input_12 (InputLayer)       [(None, 28, 28, 1)]       0         \n",
            "                                                                 \n",
            " conv2d_67 (Conv2D)          (None, 26, 26, 32)        320       \n",
            "                                                                 \n",
            " max_pooling2d_68 (MaxPoolin  (None, 13, 13, 32)       0         \n",
            " g2D)                                                            \n",
            "                                                                 \n",
            " conv2d_68 (Conv2D)          (None, 12, 12, 64)        8256      \n",
            "                                                                 \n",
            " max_pooling2d_69 (MaxPoolin  (None, 6, 6, 64)         0         \n",
            " g2D)                                                            \n",
            "                                                                 \n",
            " flatten_31 (Flatten)        (None, 2304)              0         \n",
            "                                                                 \n",
            " dense_64 (Dense)            (None, 32)                73760     \n",
            "                                                                 \n",
            " dense_65 (Dense)            (None, 10)                330       \n",
            "                                                                 \n",
            "=================================================================\n",
            "Total params: 82,666\n",
            "Trainable params: 82,666\n",
            "Non-trainable params: 0\n",
            "_________________________________________________________________\n"
          ]
        }
      ]
    },
    {
      "cell_type": "code",
      "source": [
        "model.compile(optimizer='adam',loss=SparseCategoricalCrossentropy(),metrics='accuracy')"
      ],
      "metadata": {
        "id": "ZJJiF2IG_e4f"
      },
      "execution_count": 236,
      "outputs": []
    },
    {
      "cell_type": "code",
      "source": [
        "model.fit(x=x_train,y=y_train,batch_size=64)"
      ],
      "metadata": {
        "colab": {
          "base_uri": "https://localhost:8080/"
        },
        "id": "RW8sfiuZ_UGH",
        "outputId": "634c4a9f-480a-49b8-98bb-b64e2055dc6d"
      },
      "execution_count": 237,
      "outputs": [
        {
          "output_type": "stream",
          "name": "stdout",
          "text": [
            "938/938 [==============================] - 36s 38ms/step - loss: 0.4879 - accuracy: 0.9112\n"
          ]
        },
        {
          "output_type": "execute_result",
          "data": {
            "text/plain": [
              "<keras.callbacks.History at 0x7fb65759fb50>"
            ]
          },
          "metadata": {},
          "execution_count": 237
        }
      ]
    },
    {
      "cell_type": "code",
      "source": [
        "score=model.evaluate(x_test,y_test,verbose=1)\n",
        "score"
      ],
      "metadata": {
        "id": "BJI59vzz_dP_",
        "colab": {
          "base_uri": "https://localhost:8080/"
        },
        "outputId": "b4ec70a8-348e-445d-c628-7ec7837a1d45"
      },
      "execution_count": 238,
      "outputs": [
        {
          "output_type": "stream",
          "name": "stdout",
          "text": [
            "313/313 [==============================] - 2s 7ms/step - loss: 0.1098 - accuracy: 0.9682\n"
          ]
        },
        {
          "output_type": "execute_result",
          "data": {
            "text/plain": [
              "[0.10980966687202454, 0.9682000279426575]"
            ]
          },
          "metadata": {},
          "execution_count": 238
        }
      ]
    },
    {
      "cell_type": "markdown",
      "source": [
        "The accuracy of the model is 96%"
      ],
      "metadata": {
        "id": "nULW_PeVCoeQ"
      }
    },
    {
      "cell_type": "code",
      "source": [
        ""
      ],
      "metadata": {
        "id": "pJOmnP-Yucag"
      },
      "execution_count": 182,
      "outputs": []
    }
  ],
  "metadata": {
    "colab": {
      "name": "mnist",
      "provenance": [],
      "collapsed_sections": []
    },
    "kernelspec": {
      "display_name": "Python 3",
      "name": "python3"
    },
    "language_info": {
      "name": "python"
    }
  },
  "nbformat": 4,
  "nbformat_minor": 0
}